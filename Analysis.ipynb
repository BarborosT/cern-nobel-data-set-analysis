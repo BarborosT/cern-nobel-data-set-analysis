{
 "cells": [
  {
   "cell_type": "code",
   "execution_count": 28,
   "metadata": {},
   "outputs": [
    {
     "name": "stdout",
     "output_type": "stream",
     "text": [
      "%pylab is deprecated, use %matplotlib inline and import the required libraries.\n",
      "Populating the interactive namespace from numpy and matplotlib\n"
     ]
    }
   ],
   "source": [
    "from __future__ import print_function\n",
    "from __future__ import division\n",
    "\n",
    "%pylab inline\n",
    "execfile('Data/data.py')"
   ]
  },
  {
   "cell_type": "code",
   "execution_count": 29,
   "metadata": {},
   "outputs": [
    {
     "data": {
      "text/html": [
       "<div>\n",
       "<style scoped>\n",
       "    .dataframe tbody tr th:only-of-type {\n",
       "        vertical-align: middle;\n",
       "    }\n",
       "\n",
       "    .dataframe tbody tr th {\n",
       "        vertical-align: top;\n",
       "    }\n",
       "\n",
       "    .dataframe thead th {\n",
       "        text-align: right;\n",
       "    }\n",
       "</style>\n",
       "<table border=\"1\" class=\"dataframe\">\n",
       "  <thead>\n",
       "    <tr style=\"text-align: right;\">\n",
       "      <th></th>\n",
       "      <th>Year</th>\n",
       "      <th>Category</th>\n",
       "      <th>Name</th>\n",
       "      <th>Birthdate</th>\n",
       "      <th>Birth Place</th>\n",
       "      <th>County</th>\n",
       "      <th>Residence</th>\n",
       "      <th>Role/Affiliate</th>\n",
       "      <th>Field/Language</th>\n",
       "      <th>Prize Name</th>\n",
       "      <th>Motivation</th>\n",
       "      <th>BirthYear</th>\n",
       "    </tr>\n",
       "  </thead>\n",
       "  <tbody>\n",
       "    <tr>\n",
       "      <th>0</th>\n",
       "      <td>1901</td>\n",
       "      <td>chemistry</td>\n",
       "      <td>Jacobus Henricus van 't Hoff</td>\n",
       "      <td>30 August 1852</td>\n",
       "      <td>Rotterdam</td>\n",
       "      <td>the Netherlands</td>\n",
       "      <td>No Data</td>\n",
       "      <td>Berlin University, Berlin, Germany</td>\n",
       "      <td>Physical chemistry, chemical kinetics</td>\n",
       "      <td>The Nobel Prize in Chemistry</td>\n",
       "      <td>The Nobel Prize in Chemistry 1901 was awarded ...</td>\n",
       "      <td>1852</td>\n",
       "    </tr>\n",
       "    <tr>\n",
       "      <th>1</th>\n",
       "      <td>1901</td>\n",
       "      <td>literature</td>\n",
       "      <td>Sully Prudhomme</td>\n",
       "      <td>16 March 1839</td>\n",
       "      <td>Paris</td>\n",
       "      <td>France</td>\n",
       "      <td>France</td>\n",
       "      <td>No Data</td>\n",
       "      <td>French</td>\n",
       "      <td>The Nobel Prize in Literature</td>\n",
       "      <td>The Nobel Prize in Literature 1901 was awarded...</td>\n",
       "      <td>1839</td>\n",
       "    </tr>\n",
       "    <tr>\n",
       "      <th>2</th>\n",
       "      <td>1901</td>\n",
       "      <td>medicine</td>\n",
       "      <td>Emil Adolf von Behring</td>\n",
       "      <td>15 March 1854</td>\n",
       "      <td>Hansdorf (now Jankowa ?aga?ska)</td>\n",
       "      <td>Prussia (now Poland)</td>\n",
       "      <td>No Data</td>\n",
       "      <td>Marburg University, Marburg, Germany</td>\n",
       "      <td>No Data</td>\n",
       "      <td>The Nobel Prize in Physiology or Medicine</td>\n",
       "      <td>The Nobel Prize in Physiology or Medicine 1901...</td>\n",
       "      <td>1854</td>\n",
       "    </tr>\n",
       "    <tr>\n",
       "      <th>3</th>\n",
       "      <td>1901</td>\n",
       "      <td>peace</td>\n",
       "      <td>Frédéric Passy</td>\n",
       "      <td>20 May 1822</td>\n",
       "      <td>Paris</td>\n",
       "      <td>France</td>\n",
       "      <td>France</td>\n",
       "      <td>Founder and President of first French peace s...</td>\n",
       "      <td>Humanitarian work, peace movement</td>\n",
       "      <td>The Nobel Peace Prize</td>\n",
       "      <td>The Nobel Peace Prize 1901 was awarded jointly...</td>\n",
       "      <td>1822</td>\n",
       "    </tr>\n",
       "    <tr>\n",
       "      <th>4</th>\n",
       "      <td>1901</td>\n",
       "      <td>peace</td>\n",
       "      <td>Jean Henry Dunant</td>\n",
       "      <td>8 May 1828</td>\n",
       "      <td>Geneva</td>\n",
       "      <td>Switzerland</td>\n",
       "      <td>Switzerland</td>\n",
       "      <td>Originator Geneva Convention (Convention de G...</td>\n",
       "      <td>Humanitarian work, peace movement</td>\n",
       "      <td>The Nobel Peace Prize</td>\n",
       "      <td>The Nobel Peace Prize 1901 was awarded jointly...</td>\n",
       "      <td>1828</td>\n",
       "    </tr>\n",
       "  </tbody>\n",
       "</table>\n",
       "</div>"
      ],
      "text/plain": [
       "   Year    Category                          Name       Birthdate  \\\n",
       "0  1901   chemistry  Jacobus Henricus van 't Hoff  30 August 1852   \n",
       "1  1901  literature               Sully Prudhomme   16 March 1839   \n",
       "2  1901    medicine        Emil Adolf von Behring   15 March 1854   \n",
       "3  1901       peace                Frédéric Passy     20 May 1822   \n",
       "4  1901       peace             Jean Henry Dunant      8 May 1828   \n",
       "\n",
       "                       Birth Place                County    Residence  \\\n",
       "0                        Rotterdam       the Netherlands      No Data   \n",
       "1                            Paris                France       France   \n",
       "2  Hansdorf (now Jankowa ?aga?ska)  Prussia (now Poland)      No Data   \n",
       "3                            Paris                France       France   \n",
       "4                           Geneva           Switzerland  Switzerland   \n",
       "\n",
       "                                      Role/Affiliate  \\\n",
       "0                 Berlin University, Berlin, Germany   \n",
       "1                                            No Data   \n",
       "2               Marburg University, Marburg, Germany   \n",
       "3   Founder and President of first French peace s...   \n",
       "4   Originator Geneva Convention (Convention de G...   \n",
       "\n",
       "                           Field/Language  \\\n",
       "0   Physical chemistry, chemical kinetics   \n",
       "1                                  French   \n",
       "2                                 No Data   \n",
       "3       Humanitarian work, peace movement   \n",
       "4       Humanitarian work, peace movement   \n",
       "\n",
       "                                  Prize Name  \\\n",
       "0               The Nobel Prize in Chemistry   \n",
       "1              The Nobel Prize in Literature   \n",
       "2  The Nobel Prize in Physiology or Medicine   \n",
       "3                      The Nobel Peace Prize   \n",
       "4                      The Nobel Peace Prize   \n",
       "\n",
       "                                          Motivation  BirthYear  \n",
       "0  The Nobel Prize in Chemistry 1901 was awarded ...       1852  \n",
       "1  The Nobel Prize in Literature 1901 was awarded...       1839  \n",
       "2  The Nobel Prize in Physiology or Medicine 1901...       1854  \n",
       "3  The Nobel Peace Prize 1901 was awarded jointly...       1822  \n",
       "4  The Nobel Peace Prize 1901 was awarded jointly...       1828  "
      ]
     },
     "execution_count": 29,
     "metadata": {},
     "output_type": "execute_result"
    }
   ],
   "source": [
    "data.head()"
   ]
  },
  {
   "cell_type": "code",
   "execution_count": null,
   "metadata": {},
   "outputs": [],
   "source": []
  },
  {
   "attachments": {},
   "cell_type": "markdown",
   "metadata": {},
   "source": [
    "# Plotting a Histogram"
   ]
  },
  {
   "attachments": {},
   "cell_type": "markdown",
   "metadata": {},
   "source": [
    "#### we are printing  the  earliest year in the data\n"
   ]
  },
  {
   "cell_type": "code",
   "execution_count": 30,
   "metadata": {},
   "outputs": [
    {
     "name": "stdout",
     "output_type": "stream",
     "text": [
      "1901\n"
     ]
    }
   ],
   "source": [
    "print(data.Year.min())"
   ]
  },
  {
   "attachments": {},
   "cell_type": "markdown",
   "metadata": {},
   "source": [
    "#### we are printing  the  lastest year in the data."
   ]
  },
  {
   "cell_type": "code",
   "execution_count": 31,
   "metadata": {},
   "outputs": [
    {
     "name": "stdout",
     "output_type": "stream",
     "text": [
      "2010\n"
     ]
    }
   ],
   "source": [
    "print(data.Year.max())"
   ]
  },
  {
   "attachments": {},
   "cell_type": "markdown",
   "metadata": {},
   "source": [
    "He dataset includes entries for economics, which was not one of the original Nobel prizes and has only been awarded since 1969. To ensure a proper comparison, we need to filter out the economics data using a pandas query. We can then verify that no economics prizes are remaining by checking the length of the data after applying the query to select only non-economics prizes. This information will be used in the main analysis to count the number of $B^+$ and $B^-$ mesons."
   ]
  },
  {
   "cell_type": "code",
   "execution_count": 32,
   "metadata": {},
   "outputs": [
    {
     "name": "stdout",
     "output_type": "stream",
     "text": [
      "Number of economics prizes in \"data_without_economics\":\n",
      "0\n"
     ]
    }
   ],
   "source": [
    "data_without_economics = data.query(\"Category!= 'economics'\")\n",
    "print('Number of economics prizes in \"data_without_economics\":')\n",
    "print(len(data_without_economics.query(\"Category == 'economics'\")))"
   ]
  },
  {
   "attachments": {},
   "cell_type": "markdown",
   "metadata": {},
   "source": [
    "we can now plot the histpgram over a sensible range the hist function from matplotlib. You will use this throught the main analysis"
   ]
  },
  {
   "cell_type": "code",
   "execution_count": 35,
   "metadata": {},
   "outputs": [
    {
     "data": {
      "text/plain": [
       "Text(0, 0.5, 'Number of Winners')"
      ]
     },
     "execution_count": 35,
     "metadata": {},
     "output_type": "execute_result"
    },
    {
     "data": {
      "image/png": "[encoded data removed]",
      "text/plain": [
       "<Figure size 432x288 with 1 Axes>"
      ]
     },
     "metadata": {
      "needs_background": "light"
     },
     "output_type": "display_data"
    }
   ],
   "source": [
    "# plot the histogram of number of winners against year\n",
    "H_WinnersPerYear = data_without_economics.Year.hist(bins=11, range=[1900, 2010]) \n",
    "xlabel('Year')\n",
    "ylabel('Number of Winners')"
   ]
  },
  {
   "attachments": {},
   "cell_type": "markdown",
   "metadata": {},
   "source": [
    "The statement discusses the trend of multiple prize winners in a given year using a histogram. The histogram shows a recent increase in the number of multiple prize winners, but there is a gap in the range of 1940-1950 due to World War II when the prizes were awarded intermittently. The author suggests changing the bin size of the histogram to isolate this gap and recommends using a slider to adjust the number of bins. This will provide a better visualization of the data and the impact of the gap on the overall trend."
   ]
  },
  {
   "cell_type": "code",
   "execution_count": 36,
   "metadata": {},
   "outputs": [
    {
     "data": {
      "application/vnd.jupyter.widget-view+json": {
       "model_id": "352a31ea955043009c7afc542a8f9509",
       "version_major": 2,
       "version_minor": 0
      },
      "text/plain": [
       "interactive(children=(Dropdown(description='bins', options=(2, 50, 1), value=2), Output()), _dom_classes=('wid…"
      ]
     },
     "metadata": {},
     "output_type": "display_data"
    },
    {
     "data": {
      "text/plain": [
       "<function __main__.plot_hist(bins)>"
      ]
     },
     "execution_count": 36,
     "metadata": {},
     "output_type": "execute_result"
    }
   ],
   "source": [
    "def plot_hist(bins):\n",
    "    changingBins = data_without_economics.Year.hist(bins=bins, range=[1900,2000])\n",
    "    xlabel('Year')\n",
    "    ylabel('Number of People Given Prizes')\n",
    "    BinSize = round(60/bins, 2)\n",
    "    print(BinSize)\n",
    "\n",
    "interact(plot_hist, bins=[2, 50, 1])"
   ]
  },
  {
   "attachments": {},
   "cell_type": "markdown",
   "metadata": {},
   "source": [
    "Changig the bin size really does change how the data looks !!"
   ]
  },
  {
   "attachments": {},
   "cell_type": "markdown",
   "metadata": {},
   "source": [
    "\"The passage describes the process of selecting data from a dataset based on certain criteria using the pandas library in Python. Specifically, it focuses on filtering out all data except for those related to Physics. The passage mentions that while one could build a new dataset using loops and conditional statements, the .query() function in pandas provides a quicker way to filter data based on a conditional statement passed as a string. Examples of such conditional statements are provided in the passage.\""
   ]
  },
  {
   "cell_type": "code",
   "execution_count": 37,
   "metadata": {},
   "outputs": [],
   "source": [
    "modernPyysics = \"(Category == 'physics'&& Year > 2005)\" # Integer values don't inside quotes\n",
    "physicsOnly = \"(Category == 'physics')\"\n",
    "#apply the physx.. query\n",
    "physicsOnlyDataF = data.query(physicsOnly)\n"
   ]
  },
  {
   "attachments": {},
   "cell_type": "markdown",
   "metadata": {},
   "source": [
    "### we are create a new database"
   ]
  },
  {
   "cell_type": "code",
   "execution_count": 38,
   "metadata": {},
   "outputs": [
    {
     "data": {
      "text/html": [
       "<div>\n",
       "<style scoped>\n",
       "    .dataframe tbody tr th:only-of-type {\n",
       "        vertical-align: middle;\n",
       "    }\n",
       "\n",
       "    .dataframe tbody tr th {\n",
       "        vertical-align: top;\n",
       "    }\n",
       "\n",
       "    .dataframe thead th {\n",
       "        text-align: right;\n",
       "    }\n",
       "</style>\n",
       "<table border=\"1\" class=\"dataframe\">\n",
       "  <thead>\n",
       "    <tr style=\"text-align: right;\">\n",
       "      <th></th>\n",
       "      <th>Year</th>\n",
       "      <th>Category</th>\n",
       "      <th>Name</th>\n",
       "      <th>Birthdate</th>\n",
       "      <th>Birth Place</th>\n",
       "      <th>County</th>\n",
       "      <th>Residence</th>\n",
       "      <th>Role/Affiliate</th>\n",
       "      <th>Field/Language</th>\n",
       "      <th>Prize Name</th>\n",
       "      <th>Motivation</th>\n",
       "      <th>BirthYear</th>\n",
       "    </tr>\n",
       "  </thead>\n",
       "  <tbody>\n",
       "    <tr>\n",
       "      <th>5</th>\n",
       "      <td>1901</td>\n",
       "      <td>physics</td>\n",
       "      <td>Wilhelm Conrad Röntgen</td>\n",
       "      <td>27 March 1845</td>\n",
       "      <td>Lennep (now Remscheid)</td>\n",
       "      <td>Prussia (now Germany)</td>\n",
       "      <td>No Data</td>\n",
       "      <td>Munich University, Munich, Germany</td>\n",
       "      <td>X-rays, atomic physics</td>\n",
       "      <td>The Nobel Prize in Physics</td>\n",
       "      <td>The Nobel Prize in Physics 1901 was awarded to...</td>\n",
       "      <td>1845</td>\n",
       "    </tr>\n",
       "    <tr>\n",
       "      <th>11</th>\n",
       "      <td>1902</td>\n",
       "      <td>physics</td>\n",
       "      <td>Hendrik Antoon Lorentz</td>\n",
       "      <td>18 July 1853</td>\n",
       "      <td>Arnhem</td>\n",
       "      <td>the Netherlands</td>\n",
       "      <td>No Data</td>\n",
       "      <td>Leiden University, Leiden, the Netherlands</td>\n",
       "      <td>Atomic physics, quantum physics</td>\n",
       "      <td>The Nobel Prize in Physics</td>\n",
       "      <td>The Nobel Prize in Physics 1902 was awarded jo...</td>\n",
       "      <td>1853</td>\n",
       "    </tr>\n",
       "    <tr>\n",
       "      <th>12</th>\n",
       "      <td>1902</td>\n",
       "      <td>physics</td>\n",
       "      <td>Pieter Zeeman</td>\n",
       "      <td>25 May 1865</td>\n",
       "      <td>Zonnemaire</td>\n",
       "      <td>the Netherlands</td>\n",
       "      <td>No Data</td>\n",
       "      <td>Amsterdam University, Amsterdam, the Netherlands</td>\n",
       "      <td>Atomic physics, quantum physics</td>\n",
       "      <td>The Nobel Prize in Physics</td>\n",
       "      <td>The Nobel Prize in Physics 1902 was awarded jo...</td>\n",
       "      <td>1865</td>\n",
       "    </tr>\n",
       "    <tr>\n",
       "      <th>17</th>\n",
       "      <td>1903</td>\n",
       "      <td>physics</td>\n",
       "      <td>Antoine Henri Becquerel</td>\n",
       "      <td>15 December 1852</td>\n",
       "      <td>Paris</td>\n",
       "      <td>France</td>\n",
       "      <td>No Data</td>\n",
       "      <td>école Polytechnique, Paris, France</td>\n",
       "      <td>Nuclear physics</td>\n",
       "      <td>The Nobel Prize in Physics</td>\n",
       "      <td>The Nobel Prize in Physics 1903 was divided, o...</td>\n",
       "      <td>1852</td>\n",
       "    </tr>\n",
       "    <tr>\n",
       "      <th>18</th>\n",
       "      <td>1903</td>\n",
       "      <td>physics</td>\n",
       "      <td>Marie Curie, née Sklodowska</td>\n",
       "      <td>7 November 1867</td>\n",
       "      <td>Warsaw</td>\n",
       "      <td>Russian Empire (now Poland)</td>\n",
       "      <td>No Data</td>\n",
       "      <td>NaN</td>\n",
       "      <td>Nuclear physics</td>\n",
       "      <td>The Nobel Prize in Physics</td>\n",
       "      <td>The Nobel Prize in Physics 1903 was divided, o...</td>\n",
       "      <td>1867</td>\n",
       "    </tr>\n",
       "    <tr>\n",
       "      <th>...</th>\n",
       "      <td>...</td>\n",
       "      <td>...</td>\n",
       "      <td>...</td>\n",
       "      <td>...</td>\n",
       "      <td>...</td>\n",
       "      <td>...</td>\n",
       "      <td>...</td>\n",
       "      <td>...</td>\n",
       "      <td>...</td>\n",
       "      <td>...</td>\n",
       "      <td>...</td>\n",
       "      <td>...</td>\n",
       "    </tr>\n",
       "    <tr>\n",
       "      <th>825</th>\n",
       "      <td>2009</td>\n",
       "      <td>physics</td>\n",
       "      <td>Charles K. Kao</td>\n",
       "      <td>4-Nov-33</td>\n",
       "      <td>Shanghai</td>\n",
       "      <td>China</td>\n",
       "      <td>No Data</td>\n",
       "      <td>Standard Telecommunication Laboratories, Harl...</td>\n",
       "      <td>Fiber technology, instrumentation</td>\n",
       "      <td>The Nobel Prize in Physics</td>\n",
       "      <td>The Nobel Prize in Physics 2009 was divided, o...</td>\n",
       "      <td>1933</td>\n",
       "    </tr>\n",
       "    <tr>\n",
       "      <th>826</th>\n",
       "      <td>2009</td>\n",
       "      <td>physics</td>\n",
       "      <td>George E. Smith</td>\n",
       "      <td>10-May-30</td>\n",
       "      <td>White Plains NY</td>\n",
       "      <td>USA</td>\n",
       "      <td>No Data</td>\n",
       "      <td>Bell Laboratories, Murray Hill, NJ, USA</td>\n",
       "      <td>Semiconductor technology, instrumentation</td>\n",
       "      <td>The Nobel Prize in Physics</td>\n",
       "      <td>The Nobel Prize in Physics 2009 was divided, o...</td>\n",
       "      <td>1930</td>\n",
       "    </tr>\n",
       "    <tr>\n",
       "      <th>827</th>\n",
       "      <td>2009</td>\n",
       "      <td>physics</td>\n",
       "      <td>Willard S. Boyle</td>\n",
       "      <td>19-Aug-24</td>\n",
       "      <td>Amherst NS</td>\n",
       "      <td>Canada</td>\n",
       "      <td>No Data</td>\n",
       "      <td>Bell Laboratories, Murray Hill, NJ, USA</td>\n",
       "      <td>Semiconductor technology, instrumentation</td>\n",
       "      <td>The Nobel Prize in Physics</td>\n",
       "      <td>The Nobel Prize in Physics 2009 was divided, o...</td>\n",
       "      <td>1924</td>\n",
       "    </tr>\n",
       "    <tr>\n",
       "      <th>837</th>\n",
       "      <td>2010</td>\n",
       "      <td>physics</td>\n",
       "      <td>Andre Geim</td>\n",
       "      <td>1958</td>\n",
       "      <td>Sochi</td>\n",
       "      <td>Russia</td>\n",
       "      <td>No Data</td>\n",
       "      <td>University of Manchester, Manchester, United ...</td>\n",
       "      <td>No Data</td>\n",
       "      <td>The Nobel Prize in Physics</td>\n",
       "      <td>The Nobel Prize in Physics 2010 was awarded jo...</td>\n",
       "      <td>1958</td>\n",
       "    </tr>\n",
       "    <tr>\n",
       "      <th>838</th>\n",
       "      <td>2010</td>\n",
       "      <td>physics</td>\n",
       "      <td>Konstantin Novoselov</td>\n",
       "      <td>1974</td>\n",
       "      <td>Nizhny Tagil</td>\n",
       "      <td>Russia</td>\n",
       "      <td>No Data</td>\n",
       "      <td>University of Manchester, Manchester, United ...</td>\n",
       "      <td>No Data</td>\n",
       "      <td>The Nobel Prize in Physics</td>\n",
       "      <td>The Nobel Prize in Physics 2010 was awarded jo...</td>\n",
       "      <td>1974</td>\n",
       "    </tr>\n",
       "  </tbody>\n",
       "</table>\n",
       "<p>187 rows × 12 columns</p>\n",
       "</div>"
      ],
      "text/plain": [
       "     Year Category                         Name         Birthdate  \\\n",
       "5    1901  physics       Wilhelm Conrad Röntgen     27 March 1845   \n",
       "11   1902  physics       Hendrik Antoon Lorentz      18 July 1853   \n",
       "12   1902  physics                Pieter Zeeman       25 May 1865   \n",
       "17   1903  physics      Antoine Henri Becquerel  15 December 1852   \n",
       "18   1903  physics  Marie Curie, née Sklodowska   7 November 1867   \n",
       "..    ...      ...                          ...               ...   \n",
       "825  2009  physics               Charles K. Kao          4-Nov-33   \n",
       "826  2009  physics              George E. Smith         10-May-30   \n",
       "827  2009  physics             Willard S. Boyle         19-Aug-24   \n",
       "837  2010  physics                   Andre Geim              1958   \n",
       "838  2010  physics         Konstantin Novoselov              1974   \n",
       "\n",
       "                Birth Place                       County Residence  \\\n",
       "5    Lennep (now Remscheid)        Prussia (now Germany)   No Data   \n",
       "11                   Arnhem              the Netherlands   No Data   \n",
       "12               Zonnemaire              the Netherlands   No Data   \n",
       "17                    Paris                       France   No Data   \n",
       "18                   Warsaw  Russian Empire (now Poland)   No Data   \n",
       "..                      ...                          ...       ...   \n",
       "825                Shanghai                        China   No Data   \n",
       "826         White Plains NY                          USA   No Data   \n",
       "827              Amherst NS                       Canada   No Data   \n",
       "837                   Sochi                       Russia   No Data   \n",
       "838            Nizhny Tagil                       Russia   No Data   \n",
       "\n",
       "                                        Role/Affiliate  \\\n",
       "5                   Munich University, Munich, Germany   \n",
       "11          Leiden University, Leiden, the Netherlands   \n",
       "12    Amsterdam University, Amsterdam, the Netherlands   \n",
       "17                  école Polytechnique, Paris, France   \n",
       "18                                                 NaN   \n",
       "..                                                 ...   \n",
       "825   Standard Telecommunication Laboratories, Harl...   \n",
       "826            Bell Laboratories, Murray Hill, NJ, USA   \n",
       "827            Bell Laboratories, Murray Hill, NJ, USA   \n",
       "837   University of Manchester, Manchester, United ...   \n",
       "838   University of Manchester, Manchester, United ...   \n",
       "\n",
       "                                 Field/Language                  Prize Name  \\\n",
       "5                        X-rays, atomic physics  The Nobel Prize in Physics   \n",
       "11              Atomic physics, quantum physics  The Nobel Prize in Physics   \n",
       "12              Atomic physics, quantum physics  The Nobel Prize in Physics   \n",
       "17                              Nuclear physics  The Nobel Prize in Physics   \n",
       "18                              Nuclear physics  The Nobel Prize in Physics   \n",
       "..                                          ...                         ...   \n",
       "825           Fiber technology, instrumentation  The Nobel Prize in Physics   \n",
       "826   Semiconductor technology, instrumentation  The Nobel Prize in Physics   \n",
       "827   Semiconductor technology, instrumentation  The Nobel Prize in Physics   \n",
       "837                                     No Data  The Nobel Prize in Physics   \n",
       "838                                     No Data  The Nobel Prize in Physics   \n",
       "\n",
       "                                            Motivation  BirthYear  \n",
       "5    The Nobel Prize in Physics 1901 was awarded to...       1845  \n",
       "11   The Nobel Prize in Physics 1902 was awarded jo...       1853  \n",
       "12   The Nobel Prize in Physics 1902 was awarded jo...       1865  \n",
       "17   The Nobel Prize in Physics 1903 was divided, o...       1852  \n",
       "18   The Nobel Prize in Physics 1903 was divided, o...       1867  \n",
       "..                                                 ...        ...  \n",
       "825  The Nobel Prize in Physics 2009 was divided, o...       1933  \n",
       "826  The Nobel Prize in Physics 2009 was divided, o...       1930  \n",
       "827  The Nobel Prize in Physics 2009 was divided, o...       1924  \n",
       "837  The Nobel Prize in Physics 2010 was awarded jo...       1958  \n",
       "838  The Nobel Prize in Physics 2010 was awarded jo...       1974  \n",
       "\n",
       "[187 rows x 12 columns]"
      ]
     },
     "execution_count": 38,
     "metadata": {},
     "output_type": "execute_result"
    }
   ],
   "source": [
    "physicsOnlyDataF"
   ]
  },
  {
   "cell_type": "code",
   "execution_count": 39,
   "metadata": {},
   "outputs": [
    {
     "data": {
      "text/html": [
       "<div>\n",
       "<style scoped>\n",
       "    .dataframe tbody tr th:only-of-type {\n",
       "        vertical-align: middle;\n",
       "    }\n",
       "\n",
       "    .dataframe tbody tr th {\n",
       "        vertical-align: top;\n",
       "    }\n",
       "\n",
       "    .dataframe thead th {\n",
       "        text-align: right;\n",
       "    }\n",
       "</style>\n",
       "<table border=\"1\" class=\"dataframe\">\n",
       "  <thead>\n",
       "    <tr style=\"text-align: right;\">\n",
       "      <th></th>\n",
       "      <th>Year</th>\n",
       "      <th>Category</th>\n",
       "      <th>Name</th>\n",
       "      <th>Birthdate</th>\n",
       "      <th>Birth Place</th>\n",
       "      <th>County</th>\n",
       "      <th>Residence</th>\n",
       "      <th>Role/Affiliate</th>\n",
       "      <th>Field/Language</th>\n",
       "      <th>Prize Name</th>\n",
       "      <th>Motivation</th>\n",
       "      <th>BirthYear</th>\n",
       "    </tr>\n",
       "  </thead>\n",
       "  <tbody>\n",
       "    <tr>\n",
       "      <th>5</th>\n",
       "      <td>1901</td>\n",
       "      <td>physics</td>\n",
       "      <td>Wilhelm Conrad Röntgen</td>\n",
       "      <td>27 March 1845</td>\n",
       "      <td>Lennep (now Remscheid)</td>\n",
       "      <td>Prussia (now Germany)</td>\n",
       "      <td>No Data</td>\n",
       "      <td>Munich University, Munich, Germany</td>\n",
       "      <td>X-rays, atomic physics</td>\n",
       "      <td>The Nobel Prize in Physics</td>\n",
       "      <td>The Nobel Prize in Physics 1901 was awarded to...</td>\n",
       "      <td>1845</td>\n",
       "    </tr>\n",
       "    <tr>\n",
       "      <th>11</th>\n",
       "      <td>1902</td>\n",
       "      <td>physics</td>\n",
       "      <td>Hendrik Antoon Lorentz</td>\n",
       "      <td>18 July 1853</td>\n",
       "      <td>Arnhem</td>\n",
       "      <td>the Netherlands</td>\n",
       "      <td>No Data</td>\n",
       "      <td>Leiden University, Leiden, the Netherlands</td>\n",
       "      <td>Atomic physics, quantum physics</td>\n",
       "      <td>The Nobel Prize in Physics</td>\n",
       "      <td>The Nobel Prize in Physics 1902 was awarded jo...</td>\n",
       "      <td>1853</td>\n",
       "    </tr>\n",
       "    <tr>\n",
       "      <th>12</th>\n",
       "      <td>1902</td>\n",
       "      <td>physics</td>\n",
       "      <td>Pieter Zeeman</td>\n",
       "      <td>25 May 1865</td>\n",
       "      <td>Zonnemaire</td>\n",
       "      <td>the Netherlands</td>\n",
       "      <td>No Data</td>\n",
       "      <td>Amsterdam University, Amsterdam, the Netherlands</td>\n",
       "      <td>Atomic physics, quantum physics</td>\n",
       "      <td>The Nobel Prize in Physics</td>\n",
       "      <td>The Nobel Prize in Physics 1902 was awarded jo...</td>\n",
       "      <td>1865</td>\n",
       "    </tr>\n",
       "    <tr>\n",
       "      <th>17</th>\n",
       "      <td>1903</td>\n",
       "      <td>physics</td>\n",
       "      <td>Antoine Henri Becquerel</td>\n",
       "      <td>15 December 1852</td>\n",
       "      <td>Paris</td>\n",
       "      <td>France</td>\n",
       "      <td>No Data</td>\n",
       "      <td>école Polytechnique, Paris, France</td>\n",
       "      <td>Nuclear physics</td>\n",
       "      <td>The Nobel Prize in Physics</td>\n",
       "      <td>The Nobel Prize in Physics 1903 was divided, o...</td>\n",
       "      <td>1852</td>\n",
       "    </tr>\n",
       "  </tbody>\n",
       "</table>\n",
       "</div>"
      ],
      "text/plain": [
       "    Year Category                     Name         Birthdate  \\\n",
       "5   1901  physics   Wilhelm Conrad Röntgen     27 March 1845   \n",
       "11  1902  physics   Hendrik Antoon Lorentz      18 July 1853   \n",
       "12  1902  physics            Pieter Zeeman       25 May 1865   \n",
       "17  1903  physics  Antoine Henri Becquerel  15 December 1852   \n",
       "\n",
       "               Birth Place                 County Residence  \\\n",
       "5   Lennep (now Remscheid)  Prussia (now Germany)   No Data   \n",
       "11                  Arnhem        the Netherlands   No Data   \n",
       "12              Zonnemaire        the Netherlands   No Data   \n",
       "17                   Paris                 France   No Data   \n",
       "\n",
       "                                       Role/Affiliate  \\\n",
       "5                  Munich University, Munich, Germany   \n",
       "11         Leiden University, Leiden, the Netherlands   \n",
       "12   Amsterdam University, Amsterdam, the Netherlands   \n",
       "17                 école Polytechnique, Paris, France   \n",
       "\n",
       "                      Field/Language                  Prize Name  \\\n",
       "5             X-rays, atomic physics  The Nobel Prize in Physics   \n",
       "11   Atomic physics, quantum physics  The Nobel Prize in Physics   \n",
       "12   Atomic physics, quantum physics  The Nobel Prize in Physics   \n",
       "17                   Nuclear physics  The Nobel Prize in Physics   \n",
       "\n",
       "                                           Motivation  BirthYear  \n",
       "5   The Nobel Prize in Physics 1901 was awarded to...       1845  \n",
       "11  The Nobel Prize in Physics 1902 was awarded jo...       1853  \n",
       "12  The Nobel Prize in Physics 1902 was awarded jo...       1865  \n",
       "17  The Nobel Prize in Physics 1903 was divided, o...       1852  "
      ]
     },
     "execution_count": 39,
     "metadata": {},
     "output_type": "execute_result"
    }
   ],
   "source": [
    "physicsOnlyDataF.head(4)"
   ]
  },
  {
   "cell_type": "code",
   "execution_count": 40,
   "metadata": {},
   "outputs": [
    {
     "data": {
      "text/html": [
       "<div>\n",
       "<style scoped>\n",
       "    .dataframe tbody tr th:only-of-type {\n",
       "        vertical-align: middle;\n",
       "    }\n",
       "\n",
       "    .dataframe tbody tr th {\n",
       "        vertical-align: top;\n",
       "    }\n",
       "\n",
       "    .dataframe thead th {\n",
       "        text-align: right;\n",
       "    }\n",
       "</style>\n",
       "<table border=\"1\" class=\"dataframe\">\n",
       "  <thead>\n",
       "    <tr style=\"text-align: right;\">\n",
       "      <th></th>\n",
       "      <th>Year</th>\n",
       "      <th>Category</th>\n",
       "      <th>Name</th>\n",
       "      <th>Birthdate</th>\n",
       "      <th>Birth Place</th>\n",
       "      <th>County</th>\n",
       "      <th>Residence</th>\n",
       "      <th>Role/Affiliate</th>\n",
       "      <th>Field/Language</th>\n",
       "      <th>Prize Name</th>\n",
       "      <th>Motivation</th>\n",
       "      <th>BirthYear</th>\n",
       "    </tr>\n",
       "  </thead>\n",
       "  <tbody>\n",
       "    <tr>\n",
       "      <th>825</th>\n",
       "      <td>2009</td>\n",
       "      <td>physics</td>\n",
       "      <td>Charles K. Kao</td>\n",
       "      <td>4-Nov-33</td>\n",
       "      <td>Shanghai</td>\n",
       "      <td>China</td>\n",
       "      <td>No Data</td>\n",
       "      <td>Standard Telecommunication Laboratories, Harl...</td>\n",
       "      <td>Fiber technology, instrumentation</td>\n",
       "      <td>The Nobel Prize in Physics</td>\n",
       "      <td>The Nobel Prize in Physics 2009 was divided, o...</td>\n",
       "      <td>1933</td>\n",
       "    </tr>\n",
       "    <tr>\n",
       "      <th>826</th>\n",
       "      <td>2009</td>\n",
       "      <td>physics</td>\n",
       "      <td>George E. Smith</td>\n",
       "      <td>10-May-30</td>\n",
       "      <td>White Plains NY</td>\n",
       "      <td>USA</td>\n",
       "      <td>No Data</td>\n",
       "      <td>Bell Laboratories, Murray Hill, NJ, USA</td>\n",
       "      <td>Semiconductor technology, instrumentation</td>\n",
       "      <td>The Nobel Prize in Physics</td>\n",
       "      <td>The Nobel Prize in Physics 2009 was divided, o...</td>\n",
       "      <td>1930</td>\n",
       "    </tr>\n",
       "    <tr>\n",
       "      <th>827</th>\n",
       "      <td>2009</td>\n",
       "      <td>physics</td>\n",
       "      <td>Willard S. Boyle</td>\n",
       "      <td>19-Aug-24</td>\n",
       "      <td>Amherst NS</td>\n",
       "      <td>Canada</td>\n",
       "      <td>No Data</td>\n",
       "      <td>Bell Laboratories, Murray Hill, NJ, USA</td>\n",
       "      <td>Semiconductor technology, instrumentation</td>\n",
       "      <td>The Nobel Prize in Physics</td>\n",
       "      <td>The Nobel Prize in Physics 2009 was divided, o...</td>\n",
       "      <td>1924</td>\n",
       "    </tr>\n",
       "    <tr>\n",
       "      <th>837</th>\n",
       "      <td>2010</td>\n",
       "      <td>physics</td>\n",
       "      <td>Andre Geim</td>\n",
       "      <td>1958</td>\n",
       "      <td>Sochi</td>\n",
       "      <td>Russia</td>\n",
       "      <td>No Data</td>\n",
       "      <td>University of Manchester, Manchester, United ...</td>\n",
       "      <td>No Data</td>\n",
       "      <td>The Nobel Prize in Physics</td>\n",
       "      <td>The Nobel Prize in Physics 2010 was awarded jo...</td>\n",
       "      <td>1958</td>\n",
       "    </tr>\n",
       "    <tr>\n",
       "      <th>838</th>\n",
       "      <td>2010</td>\n",
       "      <td>physics</td>\n",
       "      <td>Konstantin Novoselov</td>\n",
       "      <td>1974</td>\n",
       "      <td>Nizhny Tagil</td>\n",
       "      <td>Russia</td>\n",
       "      <td>No Data</td>\n",
       "      <td>University of Manchester, Manchester, United ...</td>\n",
       "      <td>No Data</td>\n",
       "      <td>The Nobel Prize in Physics</td>\n",
       "      <td>The Nobel Prize in Physics 2010 was awarded jo...</td>\n",
       "      <td>1974</td>\n",
       "    </tr>\n",
       "  </tbody>\n",
       "</table>\n",
       "</div>"
      ],
      "text/plain": [
       "     Year Category                  Name  Birthdate      Birth Place  County  \\\n",
       "825  2009  physics        Charles K. Kao   4-Nov-33         Shanghai   China   \n",
       "826  2009  physics       George E. Smith  10-May-30  White Plains NY     USA   \n",
       "827  2009  physics      Willard S. Boyle  19-Aug-24       Amherst NS  Canada   \n",
       "837  2010  physics            Andre Geim       1958            Sochi  Russia   \n",
       "838  2010  physics  Konstantin Novoselov       1974     Nizhny Tagil  Russia   \n",
       "\n",
       "    Residence                                     Role/Affiliate  \\\n",
       "825   No Data   Standard Telecommunication Laboratories, Harl...   \n",
       "826   No Data            Bell Laboratories, Murray Hill, NJ, USA   \n",
       "827   No Data            Bell Laboratories, Murray Hill, NJ, USA   \n",
       "837   No Data   University of Manchester, Manchester, United ...   \n",
       "838   No Data   University of Manchester, Manchester, United ...   \n",
       "\n",
       "                                 Field/Language                  Prize Name  \\\n",
       "825           Fiber technology, instrumentation  The Nobel Prize in Physics   \n",
       "826   Semiconductor technology, instrumentation  The Nobel Prize in Physics   \n",
       "827   Semiconductor technology, instrumentation  The Nobel Prize in Physics   \n",
       "837                                     No Data  The Nobel Prize in Physics   \n",
       "838                                     No Data  The Nobel Prize in Physics   \n",
       "\n",
       "                                            Motivation  BirthYear  \n",
       "825  The Nobel Prize in Physics 2009 was divided, o...       1933  \n",
       "826  The Nobel Prize in Physics 2009 was divided, o...       1930  \n",
       "827  The Nobel Prize in Physics 2009 was divided, o...       1924  \n",
       "837  The Nobel Prize in Physics 2010 was awarded jo...       1958  \n",
       "838  The Nobel Prize in Physics 2010 was awarded jo...       1974  "
      ]
     },
     "execution_count": 40,
     "metadata": {},
     "output_type": "execute_result"
    }
   ],
   "source": [
    "physicsOnlyDataF.tail()"
   ]
  },
  {
   "cell_type": "code",
   "execution_count": 41,
   "metadata": {},
   "outputs": [
    {
     "data": {
      "text/plain": [
       "Year              0\n",
       "Category          0\n",
       "Name              0\n",
       "Birthdate         0\n",
       "Birth Place       0\n",
       "County            0\n",
       "Residence         0\n",
       "Role/Affiliate    2\n",
       "Field/Language    0\n",
       "Prize Name        0\n",
       "Motivation        0\n",
       "BirthYear         0\n",
       "dtype: int64"
      ]
     },
     "execution_count": 41,
     "metadata": {},
     "output_type": "execute_result"
    }
   ],
   "source": [
    "physicsOnlyDataF.isnull().sum()"
   ]
  },
  {
   "cell_type": "code",
   "execution_count": 42,
   "metadata": {},
   "outputs": [
    {
     "data": {
      "text/plain": [
       "Text(0, 0.5, 'Number of Winner in Physics')"
      ]
     },
     "execution_count": 42,
     "metadata": {},
     "output_type": "execute_result"
    },
    {
     "data": {
      "image/png": "[encoded data removed]",
      "text/plain": [
       "<Figure size 432x288 with 1 Axes>"
      ]
     },
     "metadata": {
      "needs_background": "light"
     },
     "output_type": "display_data"
    }
   ],
   "source": [
    "h_PhysicsWinnerPerYear = physicsOnlyDataF.Year.hist(bins=15, range=[1920,2010])\n",
    "xlabel('Year') #Plot an x label\n",
    "ylabel('Number of Winner in Physics') # Plot a y label"
   ]
  },
  {
   "attachments": {},
   "cell_type": "markdown",
   "metadata": {},
   "source": [
    "####  we have now successfully plotted the histogram of just the physics prizes after applying our pre-selections."
   ]
  },
  {
   "attachments": {},
   "cell_type": "markdown",
   "metadata": {},
   "source": [
    "# Calculations, Scatter Plots and 2D Histogram\n",
    "### Adding New Data to a Data Frame"
   ]
  },
  {
   "attachments": {},
   "cell_type": "markdown",
   "metadata": {},
   "source": [
    "The section is focused on creating a Dalitz plot for particle physics analysis. However, it also provides instructions for analyzing the ages of Nobel Prize winners.\n",
    "\n",
    "The first step is to calculate the age of the winners at the time they were awarded the Nobel Prize by using the Year and Birthdate columns. This can be done by creating a new variable called AgeAwarded. The goal is to measure the spread in ages and consider if there has been a trend in Nobel Prize winners being awarded earlier or later in their life."
   ]
  },
  {
   "cell_type": "code",
   "execution_count": 44,
   "metadata": {},
   "outputs": [
    {
     "data": {
      "text/html": [
       "<div>\n",
       "<style scoped>\n",
       "    .dataframe tbody tr th:only-of-type {\n",
       "        vertical-align: middle;\n",
       "    }\n",
       "\n",
       "    .dataframe tbody tr th {\n",
       "        vertical-align: top;\n",
       "    }\n",
       "\n",
       "    .dataframe thead th {\n",
       "        text-align: right;\n",
       "    }\n",
       "</style>\n",
       "<table border=\"1\" class=\"dataframe\">\n",
       "  <thead>\n",
       "    <tr style=\"text-align: right;\">\n",
       "      <th></th>\n",
       "      <th>Year</th>\n",
       "      <th>Category</th>\n",
       "      <th>Name</th>\n",
       "      <th>Birthdate</th>\n",
       "      <th>Birth Place</th>\n",
       "      <th>County</th>\n",
       "      <th>Residence</th>\n",
       "      <th>Role/Affiliate</th>\n",
       "      <th>Field/Language</th>\n",
       "      <th>Prize Name</th>\n",
       "      <th>Motivation</th>\n",
       "      <th>BirthYear</th>\n",
       "      <th>AgeAwarded</th>\n",
       "    </tr>\n",
       "  </thead>\n",
       "  <tbody>\n",
       "    <tr>\n",
       "      <th>5</th>\n",
       "      <td>1901</td>\n",
       "      <td>physics</td>\n",
       "      <td>Wilhelm Conrad Röntgen</td>\n",
       "      <td>27 March 1845</td>\n",
       "      <td>Lennep (now Remscheid)</td>\n",
       "      <td>Prussia (now Germany)</td>\n",
       "      <td>No Data</td>\n",
       "      <td>Munich University, Munich, Germany</td>\n",
       "      <td>X-rays, atomic physics</td>\n",
       "      <td>The Nobel Prize in Physics</td>\n",
       "      <td>The Nobel Prize in Physics 1901 was awarded to...</td>\n",
       "      <td>1845</td>\n",
       "      <td>56</td>\n",
       "    </tr>\n",
       "    <tr>\n",
       "      <th>11</th>\n",
       "      <td>1902</td>\n",
       "      <td>physics</td>\n",
       "      <td>Hendrik Antoon Lorentz</td>\n",
       "      <td>18 July 1853</td>\n",
       "      <td>Arnhem</td>\n",
       "      <td>the Netherlands</td>\n",
       "      <td>No Data</td>\n",
       "      <td>Leiden University, Leiden, the Netherlands</td>\n",
       "      <td>Atomic physics, quantum physics</td>\n",
       "      <td>The Nobel Prize in Physics</td>\n",
       "      <td>The Nobel Prize in Physics 1902 was awarded jo...</td>\n",
       "      <td>1853</td>\n",
       "      <td>49</td>\n",
       "    </tr>\n",
       "    <tr>\n",
       "      <th>12</th>\n",
       "      <td>1902</td>\n",
       "      <td>physics</td>\n",
       "      <td>Pieter Zeeman</td>\n",
       "      <td>25 May 1865</td>\n",
       "      <td>Zonnemaire</td>\n",
       "      <td>the Netherlands</td>\n",
       "      <td>No Data</td>\n",
       "      <td>Amsterdam University, Amsterdam, the Netherlands</td>\n",
       "      <td>Atomic physics, quantum physics</td>\n",
       "      <td>The Nobel Prize in Physics</td>\n",
       "      <td>The Nobel Prize in Physics 1902 was awarded jo...</td>\n",
       "      <td>1865</td>\n",
       "      <td>37</td>\n",
       "    </tr>\n",
       "    <tr>\n",
       "      <th>17</th>\n",
       "      <td>1903</td>\n",
       "      <td>physics</td>\n",
       "      <td>Antoine Henri Becquerel</td>\n",
       "      <td>15 December 1852</td>\n",
       "      <td>Paris</td>\n",
       "      <td>France</td>\n",
       "      <td>No Data</td>\n",
       "      <td>école Polytechnique, Paris, France</td>\n",
       "      <td>Nuclear physics</td>\n",
       "      <td>The Nobel Prize in Physics</td>\n",
       "      <td>The Nobel Prize in Physics 1903 was divided, o...</td>\n",
       "      <td>1852</td>\n",
       "      <td>51</td>\n",
       "    </tr>\n",
       "    <tr>\n",
       "      <th>18</th>\n",
       "      <td>1903</td>\n",
       "      <td>physics</td>\n",
       "      <td>Marie Curie, née Sklodowska</td>\n",
       "      <td>7 November 1867</td>\n",
       "      <td>Warsaw</td>\n",
       "      <td>Russian Empire (now Poland)</td>\n",
       "      <td>No Data</td>\n",
       "      <td>NaN</td>\n",
       "      <td>Nuclear physics</td>\n",
       "      <td>The Nobel Prize in Physics</td>\n",
       "      <td>The Nobel Prize in Physics 1903 was divided, o...</td>\n",
       "      <td>1867</td>\n",
       "      <td>36</td>\n",
       "    </tr>\n",
       "  </tbody>\n",
       "</table>\n",
       "</div>"
      ],
      "text/plain": [
       "    Year Category                         Name         Birthdate  \\\n",
       "5   1901  physics       Wilhelm Conrad Röntgen     27 March 1845   \n",
       "11  1902  physics       Hendrik Antoon Lorentz      18 July 1853   \n",
       "12  1902  physics                Pieter Zeeman       25 May 1865   \n",
       "17  1903  physics      Antoine Henri Becquerel  15 December 1852   \n",
       "18  1903  physics  Marie Curie, née Sklodowska   7 November 1867   \n",
       "\n",
       "               Birth Place                       County Residence  \\\n",
       "5   Lennep (now Remscheid)        Prussia (now Germany)   No Data   \n",
       "11                  Arnhem              the Netherlands   No Data   \n",
       "12              Zonnemaire              the Netherlands   No Data   \n",
       "17                   Paris                       France   No Data   \n",
       "18                  Warsaw  Russian Empire (now Poland)   No Data   \n",
       "\n",
       "                                       Role/Affiliate  \\\n",
       "5                  Munich University, Munich, Germany   \n",
       "11         Leiden University, Leiden, the Netherlands   \n",
       "12   Amsterdam University, Amsterdam, the Netherlands   \n",
       "17                 école Polytechnique, Paris, France   \n",
       "18                                                NaN   \n",
       "\n",
       "                      Field/Language                  Prize Name  \\\n",
       "5             X-rays, atomic physics  The Nobel Prize in Physics   \n",
       "11   Atomic physics, quantum physics  The Nobel Prize in Physics   \n",
       "12   Atomic physics, quantum physics  The Nobel Prize in Physics   \n",
       "17                   Nuclear physics  The Nobel Prize in Physics   \n",
       "18                   Nuclear physics  The Nobel Prize in Physics   \n",
       "\n",
       "                                           Motivation  BirthYear  AgeAwarded  \n",
       "5   The Nobel Prize in Physics 1901 was awarded to...       1845          56  \n",
       "11  The Nobel Prize in Physics 1902 was awarded jo...       1853          49  \n",
       "12  The Nobel Prize in Physics 1902 was awarded jo...       1865          37  \n",
       "17  The Nobel Prize in Physics 1903 was divided, o...       1852          51  \n",
       "18  The Nobel Prize in Physics 1903 was divided, o...       1867          36  "
      ]
     },
     "execution_count": 44,
     "metadata": {},
     "output_type": "execute_result"
    }
   ],
   "source": [
    "#Create new variables in the dataframe\n",
    "physicsOnlyDataF['AgeAwarded'] = physicsOnlyDataF.Year - physicsOnlyDataF.BirthYear\n",
    "physicsOnlyDataF.head(5)"
   ]
  },
  {
   "attachments": {},
   "cell_type": "markdown",
   "metadata": {},
   "source": [
    "### plot a histogram of the laurates ages"
   ]
  },
  {
   "cell_type": "code",
   "execution_count": 45,
   "metadata": {},
   "outputs": [
    {
     "data": {
      "image/png": "[encoded data removed]",
      "text/plain": [
       "<Figure size 432x288 with 1 Axes>"
      ]
     },
     "metadata": {
      "needs_background": "light"
     },
     "output_type": "display_data"
    }
   ],
   "source": [
    "h_AgeAwarded = physicsOnlyDataF.AgeAwarded.hist(bins=15)"
   ]
  },
  {
   "attachments": {},
   "cell_type": "markdown",
   "metadata": {},
   "source": [
    "### We're doing calculations."
   ]
  },
  {
   "attachments": {},
   "cell_type": "markdown",
   "metadata": {},
   "source": [
    "- Lets calcute a measure of the spread in ages of the leatures. we will calculate the standart deviation pf the distribution"
   ]
  },
  {
   "cell_type": "code",
   "execution_count": 47,
   "metadata": {},
   "outputs": [
    {
     "name": "stdout",
     "output_type": "stream",
     "text": [
      "13.314524371459262\n"
     ]
    }
   ],
   "source": [
    "# count number of entries\n",
    "NumEntries = len(physicsOnlyDataF)\n",
    "#calculate square of ages\n",
    "physicsOnlyDataF['AgeAwardedSquared'] = physicsOnlyDataF.AgeAwarded**2\n",
    "#calculate sum of square of ages, and sum of ages\n",
    "ageSqSum = physicsOnlyDataF['AgeAwardedSquared'].sum()\n",
    "ageSum = physicsOnlyDataF['AgeAwarded'].sum()\n",
    "#calculate std and print it\n",
    "std = sqrt((ageSqSum-(ageSum**2/NumEntries))/NumEntries)\n",
    "print(std)"
   ]
  },
  {
   "attachments": {},
   "cell_type": "markdown",
   "metadata": {},
   "source": [
    "- there is actually a function that would calculate the rms for you, but we wanted to teach you how to manipulate data to amke calculations!!!!"
   ]
  },
  {
   "cell_type": "code",
   "execution_count": 48,
   "metadata": {},
   "outputs": [
    {
     "name": "stdout",
     "output_type": "stream",
     "text": [
      "13.350268125361112\n"
     ]
    }
   ],
   "source": [
    "# calculate standart deviation (rms) of distrubation\n",
    "print(physicsOnlyDataF['AgeAwarded'].std())"
   ]
  },
  {
   "cell_type": "markdown",
   "metadata": {},
   "source": []
  },
  {
   "attachments": {},
   "cell_type": "markdown",
   "metadata": {},
   "source": [
    "#  Scatter Plot"
   ]
  },
  {
   "attachments": {},
   "cell_type": "markdown",
   "metadata": {},
   "source": [
    "- Now lets plot a scatter plot of age vs Date awarded"
   ]
  },
  {
   "cell_type": "code",
   "execution_count": 50,
   "metadata": {},
   "outputs": [
    {
     "data": {
      "text/plain": [
       "Text(0, 0.5, 'Age Awarded')"
      ]
     },
     "execution_count": 50,
     "metadata": {},
     "output_type": "execute_result"
    },
    {
     "data": {
      "image/png": "[encoded data removed]",
      "text/plain": [
       "<Figure size 432x288 with 1 Axes>"
      ]
     },
     "metadata": {
      "needs_background": "light"
     },
     "output_type": "display_data"
    }
   ],
   "source": [
    "scatter(physicsOnlyDataF['Year'], physicsOnlyDataF['AgeAwarded']);\n",
    "plt.xlim(1900,2010) # change the x axis range\n",
    "plt.ylim(20,100)\n",
    "xlabel('Year Awarded')\n",
    "ylabel('Age Awarded')"
   ]
  },
  {
   "attachments": {},
   "cell_type": "markdown",
   "metadata": {},
   "source": [
    "2D Histogram"
   ]
  },
  {
   "attachments": {},
   "cell_type": "markdown",
   "metadata": {},
   "source": [
    "Choosing an appropriate bin size is a crucial factor in representing the underlying distribution of data accurately in a histogram. The choice of bin size can affect the shape of the histogram as well as the visualization of any patterns or trends in the data.\n",
    "\n",
    "When using the hist2d function in Matplotlib, the specified bin number is the number of bins on a single axis. The total number of bins in the resulting histogram is equal to the square of the specified bin number.\n",
    "\n",
    "A common method for determining an appropriate bin number for a dataset is to use the square root of the number of data points as the bin number. However, this may not always be optimal, and other methods such as the Freedman-Diaconis, Scott, or Sturges rules can be used to estimate the bin number.\n",
    "\n",
    "It is important to experiment with different bin sizes and observe how the resulting histogram changes. If the bin size is too large, important details in the distribution of the data may be lost. On the other hand, if the bin size is too small, the resulting histogram may be overly detailed and difficult to interpret."
   ]
  },
  {
   "cell_type": "code",
   "execution_count": 51,
   "metadata": {},
   "outputs": [
    {
     "data": {
      "text/plain": [
       "Text(0, 0.5, 'Age Awarded')"
      ]
     },
     "execution_count": 51,
     "metadata": {},
     "output_type": "execute_result"
    },
    {
     "data": {
      "image/png": "[encoded data removed]",
      "text/plain": [
       "<Figure size 432x288 with 2 Axes>"
      ]
     },
     "metadata": {
      "needs_background": "light"
     },
     "output_type": "display_data"
    }
   ],
   "source": [
    "hist2d(physicsOnlyDataF.Year, physicsOnlyDataF.AgeAwarded, bins =10)\n",
    "colorbar()\n",
    "xlabel('Year Awarded')\n",
    "ylabel('Age Awarded')"
   ]
  },
  {
   "attachments": {},
   "cell_type": "markdown",
   "metadata": {},
   "source": [
    "alternatively you can use interact to add a silder to vary the number of this "
   ]
  },
  {
   "cell_type": "code",
   "execution_count": 53,
   "metadata": {},
   "outputs": [
    {
     "data": {
      "application/vnd.jupyter.widget-view+json": {
       "model_id": "413e862dc3ea4d0da469975f9e4dd42a",
       "version_major": 2,
       "version_minor": 0
      },
      "text/plain": [
       "interactive(children=(Dropdown(description='bins', options=(1, 20, 1), value=1), Output()), _dom_classes=('wid…"
      ]
     },
     "metadata": {},
     "output_type": "display_data"
    },
    {
     "data": {
      "text/plain": [
       "<function __main__.plot_histogram(bins)>"
      ]
     },
     "execution_count": 53,
     "metadata": {},
     "output_type": "execute_result"
    }
   ],
   "source": [
    "def plot_histogram(bins):\n",
    "    hist2d(physicsOnlyDataF['Year'].values, physicsOnlyDataF['AgeAwarded'].values, bins=bins)\n",
    "    colorbar() # how we decided to set a colour legend\n",
    "    xlabel('Year  Awarded')\n",
    "    ylabel('Age Awarded')\n",
    "\n",
    "interact(plot_histogram, bins=[1,20,1]) # how we create silder"
   ]
  },
  {
   "attachments": {},
   "cell_type": "markdown",
   "metadata": {},
   "source": [
    "- You can playing with the silder then silder show you the effect of changing bthe in size in a 2D histogram. The darker bins in the top corner show thtat there does appear to be a trend of nobel prizes being won at an older age in more recent"
   ]
  },
  {
   "attachments": {},
   "cell_type": "markdown",
   "metadata": {},
   "source": [
    "## Making 2D histograms manipulable"
   ]
  },
  {
   "attachments": {},
   "cell_type": "markdown",
   "metadata": {},
   "source": [
    "- The main analysis requires the calculation of an asymmetry, and this section provides an example of how to do it using the Nobel Prize dataset. Reading this section after reaching the \"Searching for local matter anti-matter differences\" section is recommended."
   ]
  },
  {
   "cell_type": "code",
   "execution_count": 54,
   "metadata": {},
   "outputs": [
    {
     "data": {
      "text/plain": [
       "Text(0, 0.5, 'Age Awarded')"
      ]
     },
     "execution_count": 54,
     "metadata": {},
     "output_type": "execute_result"
    },
    {
     "data": {
      "image/png": "[encoded data removed]",
      "text/plain": [
       "<Figure size 432x288 with 2 Axes>"
      ]
     },
     "metadata": {
      "needs_background": "light"
     },
     "output_type": "display_data"
    }
   ],
   "source": [
    "physics_counts, xedges, yedges, Image = hist2d(\n",
    "    physicsOnlyDataF.Year, physicsOnlyDataF.AgeAwarded,\n",
    "    bins = 10 , range=[(1900,2010),(20,100)]\n",
    ")\n",
    "colorbar()\n",
    "xlabel('Year Awarded')\n",
    "ylabel('Age Awarded')"
   ]
  },
  {
   "attachments": {},
   "cell_type": "markdown",
   "metadata": {},
   "source": [
    "- In reality, what we're discussing here is the charting of values at a specific period that I choose on my own.\n"
   ]
  },
  {
   "cell_type": "markdown",
   "metadata": {},
   "source": []
  },
  {
   "cell_type": "code",
   "execution_count": 57,
   "metadata": {},
   "outputs": [],
   "source": [
    "#We making the \"chemistryOnlyDF\" dataset\n",
    "chemistryOnlyDF = data.query(\"(Category == 'chemistry')\")\n",
    "chemistryOnlyDF['AgeAwarded'] = chemistryOnlyDF.Year - chemistryOnlyDF.BirthYear"
   ]
  },
  {
   "cell_type": "code",
   "execution_count": 58,
   "metadata": {},
   "outputs": [
    {
     "data": {
      "text/plain": [
       "Text(0, 0.5, 'Age Awarded')"
      ]
     },
     "execution_count": 58,
     "metadata": {},
     "output_type": "execute_result"
    },
    {
     "data": {
      "image/png": "[encoded data removed]",
      "text/plain": [
       "<Figure size 432x288 with 2 Axes>"
      ]
     },
     "metadata": {
      "needs_background": "light"
     },
     "output_type": "display_data"
    }
   ],
   "source": [
    "# plot the histogram\n",
    "chemistry_counts, xedges, yedges, Image= hist2d(\n",
    "    chemistryOnlyDF.Year, chemistryOnlyDF.AgeAwarded,\n",
    "    bins=10, range=[(1900, 2010), (20, 100)]\n",
    ")\n",
    "colorbar() # Add a colour legend\n",
    "xlabel('Year Awarded')\n",
    "ylabel('Age Awarded')"
   ]
  },
  {
   "cell_type": "code",
   "execution_count": 59,
   "metadata": {},
   "outputs": [],
   "source": [
    "counts = (physics_counts - chemistry_counts) / (physics_counts + chemistry_counts)"
   ]
  },
  {
   "cell_type": "code",
   "execution_count": 60,
   "metadata": {},
   "outputs": [],
   "source": [
    "counts[np.isnan(counts)] = 0"
   ]
  },
  {
   "cell_type": "code",
   "execution_count": 62,
   "metadata": {},
   "outputs": [
    {
     "data": {
      "image/png": "[encoded data removed]",
      "text/plain": [
       "<Figure size 432x288 with 1 Axes>"
      ]
     },
     "metadata": {
      "needs_background": "light"
     },
     "output_type": "display_data"
    }
   ],
   "source": [
    "pcolor(xedges,yedges,counts,cmap='seismic') ;"
   ]
  },
  {
   "cell_type": "code",
   "execution_count": null,
   "metadata": {},
   "outputs": [],
   "source": []
  }
 ],
 "metadata": {
  "kernelspec": {
   "display_name": "Python 3",
   "language": "python",
   "name": "python3"
  },
  "language_info": {
   "codemirror_mode": {
    "name": "ipython",
    "version": 3
   },
   "file_extension": ".py",
   "mimetype": "text/x-python",
   "name": "python",
   "nbconvert_exporter": "python",
   "pygments_lexer": "ipython3",
   "version": "3.9.10"
  },
  "orig_nbformat": 4
 },
 "nbformat": 4,
 "nbformat_minor": 2
}
